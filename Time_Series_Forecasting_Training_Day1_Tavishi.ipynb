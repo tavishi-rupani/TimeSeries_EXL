{
 "cells": [
  {
   "cell_type": "markdown",
   "id": "835e2086",
   "metadata": {},
   "source": [
    "# QUESTION 1"
   ]
  },
  {
   "cell_type": "code",
   "execution_count": 1,
   "id": "6f12e139",
   "metadata": {},
   "outputs": [
    {
     "name": "stdout",
     "output_type": "stream",
     "text": [
      "0         NaN\n",
      "1         NaN\n",
      "2    5.333333\n",
      "3    8.333333\n",
      "4    9.000000\n",
      "5    9.666667\n",
      "6    7.666667\n",
      "7    8.333333\n",
      "8    6.333333\n",
      "9    9.333333\n",
      "Name: Moving Average, dtype: float64\n"
     ]
    }
   ],
   "source": [
    "import pandas as pd\n",
    "import numpy as np\n",
    "\n",
    "L = [3, 5, 8, 12, 7, 10, 6, 9, 4, 15]\n",
    "df = pd.DataFrame({'Integer_list': L})\n",
    "\n",
    "\n",
    "# Forecasting using moving average method\n",
    "window_size = 3  # Choose window size for moving average\n",
    "\n",
    "# Calculate moving average\n",
    "df['Moving Average'] = df['Integer_list'].rolling(window=window_size).mean()\n",
    "\n",
    "\n",
    "# Display forecasted data\n",
    "print(df['Moving Average'])"
   ]
  },
  {
   "cell_type": "markdown",
   "id": "bfc0f5bd",
   "metadata": {},
   "source": [
    "# QUESTION 2"
   ]
  },
  {
   "cell_type": "code",
   "execution_count": 2,
   "id": "ece50ce8",
   "metadata": {},
   "outputs": [
    {
     "name": "stdout",
     "output_type": "stream",
     "text": [
      "0      NaN\n",
      "1      NaN\n",
      "2      NaN\n",
      "3    19.75\n",
      "4    20.00\n",
      "5    21.25\n",
      "6    21.75\n",
      "7    23.50\n",
      "8    24.50\n",
      "9    25.75\n",
      "Name: Moving Average, dtype: float64\n"
     ]
    }
   ],
   "source": [
    "M = [20, 18, 22, 19, 21, 23, 24, 26, 25, 28] \n",
    "df1 = pd.DataFrame({'Integer_list': M})\n",
    "\n",
    "\n",
    "# Forecasting using moving average method\n",
    "window_size = 4  # Choose window size for moving average\n",
    "\n",
    "# Calculate moving average\n",
    "df1['Moving Average'] = df1['Integer_list'].rolling(window=window_size).mean()\n",
    "\n",
    "\n",
    "# Display forecasted data\n",
    "print(df1['Moving Average'])"
   ]
  },
  {
   "cell_type": "markdown",
   "id": "c8086bf9",
   "metadata": {},
   "source": [
    "# QUESTION 3"
   ]
  },
  {
   "cell_type": "code",
   "execution_count": 3,
   "id": "cb9f9b60",
   "metadata": {},
   "outputs": [
    {
     "name": "stdout",
     "output_type": "stream",
     "text": [
      "0     NaN\n",
      "1     NaN\n",
      "2     NaN\n",
      "3     NaN\n",
      "4     5.0\n",
      "5     7.0\n",
      "6     9.0\n",
      "7    11.0\n",
      "8    13.0\n",
      "9    15.0\n",
      "Name: Moving Average, dtype: float64\n"
     ]
    }
   ],
   "source": [
    "N = [1, 3, 5, 7, 9, 11, 13, 15, 17, 19] \n",
    "df2 = pd.DataFrame({'Integer_list': N})\n",
    "\n",
    "\n",
    "# Forecasting using moving average method\n",
    "window_size = 5  # Choose window size for moving average\n",
    "\n",
    "# Calculate moving average\n",
    "df2['Moving Average'] = df2['Integer_list'].rolling(window=window_size).mean()\n",
    "\n",
    "\n",
    "# Display forecasted data\n",
    "print(df2['Moving Average'])"
   ]
  },
  {
   "cell_type": "markdown",
   "id": "276f89a2",
   "metadata": {},
   "source": [
    "# QUESTION 4"
   ]
  },
  {
   "cell_type": "code",
   "execution_count": 4,
   "id": "eb0a6a29",
   "metadata": {},
   "outputs": [],
   "source": [
    "df3 = pd.read_csv(r\"C:\\Users\\tavishi186616\\Downloads\\attrition_data.csv\")"
   ]
  },
  {
   "cell_type": "code",
   "execution_count": 5,
   "id": "e37de608",
   "metadata": {},
   "outputs": [
    {
     "data": {
      "text/html": [
       "<div>\n",
       "<style scoped>\n",
       "    .dataframe tbody tr th:only-of-type {\n",
       "        vertical-align: middle;\n",
       "    }\n",
       "\n",
       "    .dataframe tbody tr th {\n",
       "        vertical-align: top;\n",
       "    }\n",
       "\n",
       "    .dataframe thead th {\n",
       "        text-align: right;\n",
       "    }\n",
       "</style>\n",
       "<table border=\"1\" class=\"dataframe\">\n",
       "  <thead>\n",
       "    <tr style=\"text-align: right;\">\n",
       "      <th></th>\n",
       "      <th>Year</th>\n",
       "      <th>Attrition Rate</th>\n",
       "    </tr>\n",
       "  </thead>\n",
       "  <tbody>\n",
       "    <tr>\n",
       "      <th>count</th>\n",
       "      <td>13.00000</td>\n",
       "      <td>13.000000</td>\n",
       "    </tr>\n",
       "    <tr>\n",
       "      <th>mean</th>\n",
       "      <td>2017.00000</td>\n",
       "      <td>18.538462</td>\n",
       "    </tr>\n",
       "    <tr>\n",
       "      <th>std</th>\n",
       "      <td>3.89444</td>\n",
       "      <td>6.159212</td>\n",
       "    </tr>\n",
       "    <tr>\n",
       "      <th>min</th>\n",
       "      <td>2011.00000</td>\n",
       "      <td>10.000000</td>\n",
       "    </tr>\n",
       "    <tr>\n",
       "      <th>25%</th>\n",
       "      <td>2014.00000</td>\n",
       "      <td>13.000000</td>\n",
       "    </tr>\n",
       "    <tr>\n",
       "      <th>50%</th>\n",
       "      <td>2017.00000</td>\n",
       "      <td>18.000000</td>\n",
       "    </tr>\n",
       "    <tr>\n",
       "      <th>75%</th>\n",
       "      <td>2020.00000</td>\n",
       "      <td>23.000000</td>\n",
       "    </tr>\n",
       "    <tr>\n",
       "      <th>max</th>\n",
       "      <td>2023.00000</td>\n",
       "      <td>28.000000</td>\n",
       "    </tr>\n",
       "  </tbody>\n",
       "</table>\n",
       "</div>"
      ],
      "text/plain": [
       "             Year  Attrition Rate\n",
       "count    13.00000       13.000000\n",
       "mean   2017.00000       18.538462\n",
       "std       3.89444        6.159212\n",
       "min    2011.00000       10.000000\n",
       "25%    2014.00000       13.000000\n",
       "50%    2017.00000       18.000000\n",
       "75%    2020.00000       23.000000\n",
       "max    2023.00000       28.000000"
      ]
     },
     "execution_count": 5,
     "metadata": {},
     "output_type": "execute_result"
    }
   ],
   "source": [
    "df3.describe()"
   ]
  },
  {
   "cell_type": "code",
   "execution_count": 6,
   "id": "68dbbd43",
   "metadata": {},
   "outputs": [
    {
     "name": "stdout",
     "output_type": "stream",
     "text": [
      "Requirement already satisfied: statsmodels in c:\\users\\tavishi186616\\anaconda3\\lib\\site-packages (0.13.2)Note: you may need to restart the kernel to use updated packages.\n",
      "\n",
      "Requirement already satisfied: numpy>=1.17 in c:\\users\\tavishi186616\\anaconda3\\lib\\site-packages (from statsmodels) (1.21.5)\n",
      "Requirement already satisfied: scipy>=1.3 in c:\\users\\tavishi186616\\anaconda3\\lib\\site-packages (from statsmodels) (1.7.3)\n",
      "Requirement already satisfied: pandas>=0.25 in c:\\users\\tavishi186616\\anaconda3\\lib\\site-packages (from statsmodels) (1.4.2)\n",
      "Requirement already satisfied: patsy>=0.5.2 in c:\\users\\tavishi186616\\anaconda3\\lib\\site-packages (from statsmodels) (0.5.2)\n",
      "Requirement already satisfied: packaging>=21.3 in c:\\users\\tavishi186616\\anaconda3\\lib\\site-packages (from statsmodels) (21.3)\n",
      "Requirement already satisfied: pyparsing!=3.0.5,>=2.0.2 in c:\\users\\tavishi186616\\anaconda3\\lib\\site-packages (from packaging>=21.3->statsmodels) (3.0.4)\n",
      "Requirement already satisfied: pytz>=2020.1 in c:\\users\\tavishi186616\\anaconda3\\lib\\site-packages (from pandas>=0.25->statsmodels) (2021.3)\n",
      "Requirement already satisfied: python-dateutil>=2.8.1 in c:\\users\\tavishi186616\\anaconda3\\lib\\site-packages (from pandas>=0.25->statsmodels) (2.8.2)\n",
      "Requirement already satisfied: six in c:\\users\\tavishi186616\\anaconda3\\lib\\site-packages (from patsy>=0.5.2->statsmodels) (1.16.0)\n"
     ]
    }
   ],
   "source": [
    "pip install statsmodels\n"
   ]
  },
  {
   "cell_type": "code",
   "execution_count": 7,
   "id": "3644cae7",
   "metadata": {},
   "outputs": [
    {
     "name": "stdout",
     "output_type": "stream",
     "text": [
      "ADF Statistic: -0.64236405483751\n",
      "p-value: 0.8611193437632667\n",
      "Fail to reject the null hypothesis: The time series is non-stationary.\n"
     ]
    }
   ],
   "source": [
    "from statsmodels.tsa.stattools import adfuller\n",
    "\n",
    "#perform augmented Dickey-Fuller test\n",
    "result = adfuller(df3['Attrition Rate'])\n",
    "\n",
    "adf_statistic = result[0]\n",
    "p_value = result[1]\n",
    "print(\"ADF Statistic:\", adf_statistic)\n",
    "print(\"p-value:\", p_value)\n",
    "\n",
    "# Interpret the test result\n",
    "if p_value < 0.05:\n",
    "    print(\"Reject the null hypothesis: The time series is stationary.\")\n",
    "else:\n",
    "    print(\"Fail to reject the null hypothesis: The time series is non-stationary.\")"
   ]
  },
  {
   "cell_type": "code",
   "execution_count": null,
   "id": "fdf64d41",
   "metadata": {},
   "outputs": [],
   "source": []
  }
 ],
 "metadata": {
  "kernelspec": {
   "display_name": "Python 3 (ipykernel)",
   "language": "python",
   "name": "python3"
  },
  "language_info": {
   "codemirror_mode": {
    "name": "ipython",
    "version": 3
   },
   "file_extension": ".py",
   "mimetype": "text/x-python",
   "name": "python",
   "nbconvert_exporter": "python",
   "pygments_lexer": "ipython3",
   "version": "3.9.12"
  }
 },
 "nbformat": 4,
 "nbformat_minor": 5
}
